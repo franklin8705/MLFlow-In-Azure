{
 "cells": [
  {
   "cell_type": "markdown",
   "metadata": {},
   "source": [
    "# Experiment Tracking\n",
    "\n",
    "The machine learning life cycle involves training multiple algorithms using different hyperparameters and libraries, all with different performance results and trained models.  This lesson explores tracking those experiments to organize the machine learning life cycle."
   ]
  },
  {
   "cell_type": "markdown",
   "metadata": {},
   "source": [
    "### Tracking Experiments with MLflow\n",
    "\n",
    "Over the course of the machine learning life cycle, data scientists test many different models from various libraries with different hyperparameters.  Tracking these various results poses an organizational challenge.  In brief, storing experiments, results, models, supplementary artifacts, and code creates significant challenges.\n",
    "\n",
    "MLflow Tracking is one of the three main components of MLflow.  It is a logging API specific for machine learning and agnostic to libraries and environments that do the training.  It is organized around the concept of **runs**, which are executions of data science code.  Runs are aggregated into **experiments** where many runs can be a part of a given experiment and an MLflow server can host many experiments.\n",
    "\n",
    "Each run can record the following information:<br><br>\n",
    "\n",
    "- **Parameters:** Key-value pairs of input parameters such as the number of trees in a random forest model\n",
    "- **Metrics:** Evaluation metrics such as RMSE or Area Under the ROC Curve\n",
    "- **Artifacts:** Arbitrary output files in any format.  This can include images, pickled models, and data files\n",
    "- **Source:** The code that originally ran the experiment\n",
    "\n",
    "MLflow tracking also serves as a **model registry** so tracked models can easily be stored and, as necessary, deployed into production.\n",
    "\n",
    "Experiments can be tracked using libraries in Python, R, and Java as well as by using the CLI and REST calls.  This course will use Python, though the majority of MLflow functionality is also exposed in these other APIs.\n",
    "\n",
    "<div><img src=\"https://files.training.databricks.com/images/eLearning/ML-Part-4/mlflow-tracking.png\" style=\"height: 400px; margin: 20px\"/></div>"
   ]
  },
  {
   "cell_type": "markdown",
   "metadata": {},
   "source": [
    "### Experiment Logging and UI\n",
    "\n",
    "MLflow is an open source software project developed by Databricks available to developers regardless of which platform they are using."
   ]
  },
  {
   "cell_type": "markdown",
   "metadata": {
    "tags": []
   },
   "source": [
    "!mlflow server --backend-store-uri mlruns/ --default-artifact-root mlruns/ --host 0.0.0.0 --port 5000"
   ]
  },
  {
   "cell_type": "markdown",
   "metadata": {},
   "source": [
    "#### Import a dataset of Airbnb listings and featurize the data.  We'll use this to train a model."
   ]
  },
  {
   "cell_type": "code",
   "execution_count": 1,
   "metadata": {
    "scrolled": true,
    "tags": []
   },
   "outputs": [
    {
     "name": "stdout",
     "output_type": "stream",
     "text": [
      "Python 3.8.1\r\n"
     ]
    }
   ],
   "source": [
    "!python --version"
   ]
  },
  {
   "cell_type": "code",
   "execution_count": 2,
   "metadata": {},
   "outputs": [],
   "source": [
    "import os\n",
    "import warnings\n",
    "import sys\n",
    "\n",
    "import pandas as pd\n",
    "import numpy as np\n",
    "import matplotlib.pyplot as plt\n",
    "from urllib.parse import urlparse, unquote\n",
    "from os import listdir\n",
    "\n",
    "#Sklearn\n",
    "from sklearn.metrics import mean_squared_error, mean_absolute_error, r2_score\n",
    "from sklearn.model_selection import train_test_split\n",
    "from sklearn.linear_model import ElasticNet\n",
    "\n",
    "#Azure\n",
    "import azureml.core\n",
    "import azureml.dataprep\n",
    "from azureml.core import Workspace, Dataset\n",
    "from azure.storage.blob import BlobServiceClient\n",
    "from azureml.core.authentication import ServicePrincipalAuthentication\n",
    "\n",
    "#MLFlow\n",
    "import mlflow\n",
    "import mlflow.sklearn\n",
    "from mlflow.entities import ViewType\n",
    "\n",
    "#Temporarily filter all warning for demo\n",
    "warnings.filterwarnings(\"ignore\")"
   ]
  },
  {
   "cell_type": "code",
   "execution_count": 3,
   "metadata": {
    "scrolled": true
   },
   "outputs": [
    {
     "name": "stdout",
     "output_type": "stream",
     "text": [
      "SDK version: 1.15.0\n"
     ]
    }
   ],
   "source": [
    "# Check core SDK version number\n",
    "print(\"SDK version:\", azureml.core.VERSION)"
   ]
  },
  {
   "cell_type": "markdown",
   "metadata": {},
   "source": [
    "#### Update Working Directory"
   ]
  },
  {
   "cell_type": "code",
   "execution_count": 16,
   "metadata": {},
   "outputs": [
    {
     "data": {
      "text/plain": [
       "'/Users/antfra/Desktop/MLFlow In Azure/notebooks'"
      ]
     },
     "execution_count": 16,
     "metadata": {},
     "output_type": "execute_result"
    }
   ],
   "source": [
    "#current directory\n",
    "os.getcwd()"
   ]
  },
  {
   "cell_type": "code",
   "execution_count": 13,
   "metadata": {},
   "outputs": [
    {
     "data": {
      "text/plain": [
       "'/Users/antfra/Desktop/MLFlow In Azure'"
      ]
     },
     "execution_count": 13,
     "metadata": {},
     "output_type": "execute_result"
    }
   ],
   "source": [
    "# Get parent folder path\n",
    "parent_directory=os.path.abspath(\"..\")\n",
    "parent_directory"
   ]
  },
  {
   "cell_type": "code",
   "execution_count": 17,
   "metadata": {},
   "outputs": [],
   "source": [
    "#Set parent path in system path list\n",
    "sys.path.insert(0,parent_directory)\n",
    "#Set current working directory as parent path\n",
    "os.chdir(parent_directory)"
   ]
  },
  {
   "cell_type": "markdown",
   "metadata": {},
   "source": [
    "## 0. The Data"
   ]
  },
  {
   "cell_type": "markdown",
   "metadata": {},
   "source": [
    "##### New CWD"
   ]
  },
  {
   "cell_type": "code",
   "execution_count": 18,
   "metadata": {},
   "outputs": [
    {
     "data": {
      "text/plain": [
       "'/Users/antfra/Desktop/MLFlow In Azure'"
      ]
     },
     "execution_count": 18,
     "metadata": {},
     "output_type": "execute_result"
    }
   ],
   "source": [
    "os.getcwd()"
   ]
  },
  {
   "cell_type": "code",
   "execution_count": 20,
   "metadata": {},
   "outputs": [
    {
     "data": {
      "text/html": [
       "<div>\n",
       "<style scoped>\n",
       "    .dataframe tbody tr th:only-of-type {\n",
       "        vertical-align: middle;\n",
       "    }\n",
       "\n",
       "    .dataframe tbody tr th {\n",
       "        vertical-align: top;\n",
       "    }\n",
       "\n",
       "    .dataframe thead th {\n",
       "        text-align: right;\n",
       "    }\n",
       "</style>\n",
       "<table border=\"1\" class=\"dataframe\">\n",
       "  <thead>\n",
       "    <tr style=\"text-align: right;\">\n",
       "      <th></th>\n",
       "      <th>fixed acidity</th>\n",
       "      <th>volatile acidity</th>\n",
       "      <th>citric acid</th>\n",
       "      <th>residual sugar</th>\n",
       "      <th>chlorides</th>\n",
       "      <th>free sulfur dioxide</th>\n",
       "      <th>total sulfur dioxide</th>\n",
       "      <th>density</th>\n",
       "      <th>pH</th>\n",
       "      <th>sulphates</th>\n",
       "      <th>alcohol</th>\n",
       "      <th>quality</th>\n",
       "    </tr>\n",
       "  </thead>\n",
       "  <tbody>\n",
       "    <tr>\n",
       "      <th>1211</th>\n",
       "      <td>7.3</td>\n",
       "      <td>0.27</td>\n",
       "      <td>0.39</td>\n",
       "      <td>6.70</td>\n",
       "      <td>0.064</td>\n",
       "      <td>28.0</td>\n",
       "      <td>188.0</td>\n",
       "      <td>0.99580</td>\n",
       "      <td>3.29</td>\n",
       "      <td>0.30</td>\n",
       "      <td>9.7</td>\n",
       "      <td>5</td>\n",
       "    </tr>\n",
       "    <tr>\n",
       "      <th>2473</th>\n",
       "      <td>6.0</td>\n",
       "      <td>0.29</td>\n",
       "      <td>0.21</td>\n",
       "      <td>15.55</td>\n",
       "      <td>0.043</td>\n",
       "      <td>20.0</td>\n",
       "      <td>142.0</td>\n",
       "      <td>0.99658</td>\n",
       "      <td>3.11</td>\n",
       "      <td>0.54</td>\n",
       "      <td>10.1</td>\n",
       "      <td>6</td>\n",
       "    </tr>\n",
       "    <tr>\n",
       "      <th>6</th>\n",
       "      <td>6.2</td>\n",
       "      <td>0.32</td>\n",
       "      <td>0.16</td>\n",
       "      <td>7.00</td>\n",
       "      <td>0.045</td>\n",
       "      <td>30.0</td>\n",
       "      <td>136.0</td>\n",
       "      <td>0.99490</td>\n",
       "      <td>3.18</td>\n",
       "      <td>0.47</td>\n",
       "      <td>9.6</td>\n",
       "      <td>6</td>\n",
       "    </tr>\n",
       "    <tr>\n",
       "      <th>4215</th>\n",
       "      <td>7.0</td>\n",
       "      <td>0.44</td>\n",
       "      <td>0.24</td>\n",
       "      <td>12.10</td>\n",
       "      <td>0.056</td>\n",
       "      <td>68.0</td>\n",
       "      <td>210.0</td>\n",
       "      <td>0.99718</td>\n",
       "      <td>3.05</td>\n",
       "      <td>0.50</td>\n",
       "      <td>9.5</td>\n",
       "      <td>5</td>\n",
       "    </tr>\n",
       "    <tr>\n",
       "      <th>2272</th>\n",
       "      <td>6.2</td>\n",
       "      <td>0.25</td>\n",
       "      <td>0.28</td>\n",
       "      <td>8.50</td>\n",
       "      <td>0.035</td>\n",
       "      <td>28.0</td>\n",
       "      <td>108.0</td>\n",
       "      <td>0.99486</td>\n",
       "      <td>3.40</td>\n",
       "      <td>0.42</td>\n",
       "      <td>10.4</td>\n",
       "      <td>6</td>\n",
       "    </tr>\n",
       "    <tr>\n",
       "      <th>2154</th>\n",
       "      <td>9.8</td>\n",
       "      <td>0.93</td>\n",
       "      <td>0.45</td>\n",
       "      <td>8.60</td>\n",
       "      <td>0.052</td>\n",
       "      <td>34.0</td>\n",
       "      <td>187.0</td>\n",
       "      <td>0.99940</td>\n",
       "      <td>3.12</td>\n",
       "      <td>0.59</td>\n",
       "      <td>10.2</td>\n",
       "      <td>4</td>\n",
       "    </tr>\n",
       "    <tr>\n",
       "      <th>2536</th>\n",
       "      <td>6.5</td>\n",
       "      <td>0.23</td>\n",
       "      <td>0.25</td>\n",
       "      <td>17.30</td>\n",
       "      <td>0.046</td>\n",
       "      <td>15.0</td>\n",
       "      <td>110.0</td>\n",
       "      <td>0.99828</td>\n",
       "      <td>3.15</td>\n",
       "      <td>0.42</td>\n",
       "      <td>9.2</td>\n",
       "      <td>6</td>\n",
       "    </tr>\n",
       "    <tr>\n",
       "      <th>3716</th>\n",
       "      <td>6.8</td>\n",
       "      <td>0.22</td>\n",
       "      <td>0.26</td>\n",
       "      <td>1.20</td>\n",
       "      <td>0.041</td>\n",
       "      <td>29.0</td>\n",
       "      <td>182.0</td>\n",
       "      <td>0.99104</td>\n",
       "      <td>3.04</td>\n",
       "      <td>0.35</td>\n",
       "      <td>11.2</td>\n",
       "      <td>5</td>\n",
       "    </tr>\n",
       "    <tr>\n",
       "      <th>609</th>\n",
       "      <td>7.4</td>\n",
       "      <td>0.37</td>\n",
       "      <td>0.35</td>\n",
       "      <td>5.70</td>\n",
       "      <td>0.061</td>\n",
       "      <td>12.0</td>\n",
       "      <td>94.0</td>\n",
       "      <td>0.99650</td>\n",
       "      <td>3.48</td>\n",
       "      <td>0.69</td>\n",
       "      <td>10.7</td>\n",
       "      <td>6</td>\n",
       "    </tr>\n",
       "    <tr>\n",
       "      <th>924</th>\n",
       "      <td>7.9</td>\n",
       "      <td>0.28</td>\n",
       "      <td>0.41</td>\n",
       "      <td>2.00</td>\n",
       "      <td>0.044</td>\n",
       "      <td>50.0</td>\n",
       "      <td>152.0</td>\n",
       "      <td>0.99340</td>\n",
       "      <td>3.45</td>\n",
       "      <td>0.49</td>\n",
       "      <td>10.7</td>\n",
       "      <td>8</td>\n",
       "    </tr>\n",
       "  </tbody>\n",
       "</table>\n",
       "</div>"
      ],
      "text/plain": [
       "      fixed acidity  volatile acidity  citric acid  residual sugar  chlorides  \\\n",
       "1211            7.3              0.27         0.39            6.70      0.064   \n",
       "2473            6.0              0.29         0.21           15.55      0.043   \n",
       "6               6.2              0.32         0.16            7.00      0.045   \n",
       "4215            7.0              0.44         0.24           12.10      0.056   \n",
       "2272            6.2              0.25         0.28            8.50      0.035   \n",
       "2154            9.8              0.93         0.45            8.60      0.052   \n",
       "2536            6.5              0.23         0.25           17.30      0.046   \n",
       "3716            6.8              0.22         0.26            1.20      0.041   \n",
       "609             7.4              0.37         0.35            5.70      0.061   \n",
       "924             7.9              0.28         0.41            2.00      0.044   \n",
       "\n",
       "      free sulfur dioxide  total sulfur dioxide  density    pH  sulphates  \\\n",
       "1211                 28.0                 188.0  0.99580  3.29       0.30   \n",
       "2473                 20.0                 142.0  0.99658  3.11       0.54   \n",
       "6                    30.0                 136.0  0.99490  3.18       0.47   \n",
       "4215                 68.0                 210.0  0.99718  3.05       0.50   \n",
       "2272                 28.0                 108.0  0.99486  3.40       0.42   \n",
       "2154                 34.0                 187.0  0.99940  3.12       0.59   \n",
       "2536                 15.0                 110.0  0.99828  3.15       0.42   \n",
       "3716                 29.0                 182.0  0.99104  3.04       0.35   \n",
       "609                  12.0                  94.0  0.99650  3.48       0.69   \n",
       "924                  50.0                 152.0  0.99340  3.45       0.49   \n",
       "\n",
       "      alcohol  quality  \n",
       "1211      9.7        5  \n",
       "2473     10.1        6  \n",
       "6         9.6        6  \n",
       "4215      9.5        5  \n",
       "2272     10.4        6  \n",
       "2154     10.2        4  \n",
       "2536      9.2        6  \n",
       "3716     11.2        5  \n",
       "609      10.7        6  \n",
       "924      10.7        8  "
      ]
     },
     "execution_count": 20,
     "metadata": {},
     "output_type": "execute_result"
    }
   ],
   "source": [
    "data_path = \"./data/wine-quality.csv\" #put your path here\n",
    "df = pd.read_csv(data_path)\n",
    "\n",
    "df.sample(10)"
   ]
  },
  {
   "cell_type": "markdown",
   "metadata": {},
   "source": [
    "## 1. Tracking Experiments"
   ]
  },
  {
   "cell_type": "markdown",
   "metadata": {},
   "source": [
    "#### List Experiments"
   ]
  },
  {
   "cell_type": "code",
   "execution_count": 23,
   "metadata": {
    "scrolled": true
   },
   "outputs": [
    {
     "data": {
      "text/plain": [
       "[<Experiment: artifact_location='./mlruns/0', experiment_id='0', lifecycle_stage='active', name='Default', tags={}>]"
      ]
     },
     "execution_count": 23,
     "metadata": {},
     "output_type": "execute_result"
    }
   ],
   "source": [
    "mlflow.tracking.MlflowClient().list_experiments()"
   ]
  },
  {
   "cell_type": "code",
   "execution_count": 24,
   "metadata": {},
   "outputs": [
    {
     "data": {
      "text/plain": [
       "'1'"
      ]
     },
     "execution_count": 24,
     "metadata": {},
     "output_type": "execute_result"
    }
   ],
   "source": [
    "mlflow.create_experiment(\"My Simple New Experiment\")\n",
    "#output is the experiment_id"
   ]
  },
  {
   "cell_type": "markdown",
   "metadata": {},
   "source": [
    "##### List Experiments (again)"
   ]
  },
  {
   "cell_type": "code",
   "execution_count": 25,
   "metadata": {},
   "outputs": [
    {
     "data": {
      "text/plain": [
       "[<Experiment: artifact_location='./mlruns/0', experiment_id='0', lifecycle_stage='active', name='Default', tags={}>,\n",
       " <Experiment: artifact_location='file:///Users/antfra/Desktop/MLFlow%20In%20Azure/mlruns/1', experiment_id='1', lifecycle_stage='active', name='My Simple New Experiment', tags={}>]"
      ]
     },
     "execution_count": 25,
     "metadata": {},
     "output_type": "execute_result"
    }
   ],
   "source": [
    "mlflow.tracking.MlflowClient().list_experiments()"
   ]
  },
  {
   "cell_type": "markdown",
   "metadata": {},
   "source": [
    "### What do we track?\n",
    "\n",
    "- **Code Version**: Git commit hash used for the run (if it was run from an MLflow Project)\n",
    "- **Start & End Time**: Start and end time of the run\n",
    "- **Source**: what code run?\n",
    "- **Parameters**: Key-value input parameters.\n",
    "- **Metrics**: Key-value metrics, where the value is numeric (can be updated over the run)\n",
    "- **Artifacts**: Output files in any format."
   ]
  },
  {
   "cell_type": "markdown",
   "metadata": {},
   "source": [
    "### Execute A Run"
   ]
  },
  {
   "cell_type": "code",
   "execution_count": 58,
   "metadata": {},
   "outputs": [],
   "source": [
    "def eval_metrics(actual,pred):\n",
    "    #compute relevant metrics\n",
    "    rmse=np.sqrt(mean_squared_error(actual,pred))\n",
    "    mae=mean_absolute_error(actual,pred)\n",
    "    r2=r2_score(actual,pred)\n",
    "    return rmse, mae, r2\n",
    "\n",
    "def data_prep(data):\n",
    "    #pass dataframe\n",
    "    #Split dataset to train and test dataframes\n",
    "    X_train, X_test, y_train, y_test = train_test_split(data.drop([\"quality\"], axis=1), data[\"quality\"].values, random_state=42)\n",
    "    return X_train, X_test, y_train, y_test\n",
    "\n",
    "def train(data=df, alpha=0.5,l1_ratio=0.5,full_view=False,experiment_id='0'):\n",
    "    #ignore warnings\n",
    "    warnings.filterwarnings('ignore')\n",
    "    #set random seed\n",
    "    np.random.seed(87)\n",
    "    \n",
    "    #split data\n",
    "    train_x,test_x,train_y,test_y=data_prep(df)\n",
    "    \n",
    "    \n",
    "    #start MLFlow context manager\n",
    "    with mlflow.start_run(experiment_id=experiment_id) as run:\n",
    "        #train elastic_net model\n",
    "        lr = ElasticNet(alpha=alpha, l1_ratio=l1_ratio, random_state=87)\n",
    "        lr.fit(train_x,train_y)\n",
    "        \n",
    "        #evaluate metrics\n",
    "        test_pred=lr.predict(test_x)\n",
    "        (rmse, mae, r2)=eval_metrics(test_y,test_pred)\n",
    "        \n",
    "        #print out metrics\n",
    "        print(f'ElasticNet Model Params: alpha={alpha}, l1_ratio={l1_ratio}')\n",
    "        print(f'RMSE: {rmse}')\n",
    "        print(f\"MAE: {mae}\")\n",
    "        print(f'R2: {r2}')\n",
    "        \n",
    "        #log parameters\n",
    "        mlflow.log_param(key=\"alpha\",value=alpha)\n",
    "        mlflow.log_param(key=\"l1_ratio\",value=l1_ratio)\n",
    "        mlflow.log_param(key=\"r2\",value=r2)\n",
    "        mlflow.log_param(key=\"rmse\",value=rmse)\n",
    "        mlflow.log_param(key=\"mae\",value=mae)\n",
    "        \n",
    "        # log model\n",
    "        mlflow.sklearn.log_model(lr,\"model\")\n",
    "        \n",
    "        #print artifact uri\n",
    "        print(f\"Save To: {mlflow.get_artifact_uri()}\")\n",
    "        \n",
    "        #print run_id\n",
    "        print(f\"Run ID: {run.info.run_uuid}\")\n",
    "        \n",
    "        #print experiment id\n",
    "        print(f\"Experiment ID: {run.info.experiment_id}\")\n",
    "        \n",
    "        #Print Full View of Runs\n",
    "        if full_view:\n",
    "            print(f\"Run IDs: {mlflow.search_runs(ViewType.ACTIVE_ONLY)}\")\n",
    "        else:\n",
    "            pass\n",
    "        "
   ]
  },
  {
   "cell_type": "markdown",
   "metadata": {},
   "source": [
    "### Start A New Run"
   ]
  },
  {
   "cell_type": "code",
   "execution_count": 33,
   "metadata": {},
   "outputs": [
    {
     "name": "stdout",
     "output_type": "stream",
     "text": [
      "ElasticNet Model Params: alpha=0.5, l1_ratio=0.5\n",
      "RMSE: 0.821195103195106\n",
      "MAE: 0.6338934920844772\n",
      "R2: 0.1313572669551294\n",
      "Save To: ./mlruns/0/c6b035e6f7584417b6966b2084bfa0c9/artifacts\n",
      "Run ID: c6b035e6f7584417b6966b2084bfa0c9\n",
      "Experiment ID: 0\n"
     ]
    }
   ],
   "source": [
    "train(data=df,alpha=0.5,l1_ratio=0.5)"
   ]
  },
  {
   "cell_type": "code",
   "execution_count": 35,
   "metadata": {},
   "outputs": [
    {
     "name": "stdout",
     "output_type": "stream",
     "text": [
      "ElasticNet Model Params: alpha=0.6, l1_ratio=0.6\n",
      "RMSE: 0.8481727914656522\n",
      "MAE: 0.6489712234815996\n",
      "R2: 0.07334694474686643\n",
      "Save To: ./mlruns/0/92342c1fd3d946b28262b1dcacd22087/artifacts\n",
      "Run ID: 92342c1fd3d946b28262b1dcacd22087\n",
      "Experiment ID: 0\n"
     ]
    }
   ],
   "source": [
    "train(data=df,alpha=0.6,l1_ratio=0.6)"
   ]
  },
  {
   "cell_type": "code",
   "execution_count": 36,
   "metadata": {},
   "outputs": [
    {
     "name": "stdout",
     "output_type": "stream",
     "text": [
      "ElasticNet Model Params: alpha=0.4, l1_ratio=0.4\n",
      "RMSE: 0.8045164268812339\n",
      "MAE: 0.6258958689316951\n",
      "R2: 0.16628364535926987\n",
      "Save To: ./mlruns/0/066ca247144c4e758609cdfe65bd6301/artifacts\n",
      "Run ID: 066ca247144c4e758609cdfe65bd6301\n",
      "Experiment ID: 0\n"
     ]
    }
   ],
   "source": [
    "train(data=df,alpha=0.4,l1_ratio=0.4)"
   ]
  },
  {
   "cell_type": "code",
   "execution_count": 39,
   "metadata": {},
   "outputs": [
    {
     "name": "stdout",
     "output_type": "stream",
     "text": [
      "ElasticNet Model Params: alpha=0.6, l1_ratio=0.6\n",
      "RMSE: 0.8481727914656522\n",
      "MAE: 0.6489712234815996\n",
      "R2: 0.07334694474686643\n",
      "Save To: file:///Users/antfra/Desktop/MLFlow%20In%20Azure/mlruns/1/31b639083855419fbb00e1ba3f687a5f/artifacts\n",
      "Run ID: 31b639083855419fbb00e1ba3f687a5f\n",
      "Experiment ID: 1\n"
     ]
    }
   ],
   "source": [
    "train(data=df,alpha=0.6,l1_ratio=0.6,experiment_id='1') #switch to my new experiment 1"
   ]
  },
  {
   "cell_type": "code",
   "execution_count": 59,
   "metadata": {
    "scrolled": true
   },
   "outputs": [
    {
     "name": "stdout",
     "output_type": "stream",
     "text": [
      "ElasticNet Model Params: alpha=0.7, l1_ratio=0.1\n",
      "RMSE: 0.800925432236956\n",
      "MAE: 0.6242005649466131\n",
      "R2: 0.1737096946650073\n",
      "Save To: file:///Users/antfra/Desktop/MLFlow%20In%20Azure/mlruns/1/5d44ba1c648d4cadb99e5acf7db47ddf/artifacts\n",
      "Run ID: 5d44ba1c648d4cadb99e5acf7db47ddf\n",
      "Experiment ID: 1\n"
     ]
    }
   ],
   "source": [
    "train(data=df,alpha=0.7,l1_ratio=0.1,experiment_id='1') #switch to my new experiment 1"
   ]
  },
  {
   "cell_type": "markdown",
   "metadata": {},
   "source": [
    "## 1.1 Compare Runs in UI"
   ]
  },
  {
   "cell_type": "markdown",
   "metadata": {},
   "source": [
    "- Run `mlflow ui` in command line\n",
    "- Open browser to specified local host url"
   ]
  },
  {
   "cell_type": "markdown",
   "metadata": {},
   "source": [
    "## 1.2 Compare Runs Programmatically"
   ]
  },
  {
   "cell_type": "markdown",
   "metadata": {},
   "source": [
    "### Look at MLFlow Directory Structure"
   ]
  },
  {
   "cell_type": "markdown",
   "metadata": {},
   "source": [
    "This allows you to retrieve artifacts and run info."
   ]
  },
  {
   "cell_type": "code",
   "execution_count": 60,
   "metadata": {},
   "outputs": [
    {
     "data": {
      "text/plain": [
       "[<Experiment: artifact_location='./mlruns/0', experiment_id='0', lifecycle_stage='active', name='Default', tags={}>,\n",
       " <Experiment: artifact_location='file:///Users/antfra/Desktop/MLFlow%20In%20Azure/mlruns/1', experiment_id='1', lifecycle_stage='active', name='My Simple New Experiment', tags={}>]"
      ]
     },
     "execution_count": 60,
     "metadata": {},
     "output_type": "execute_result"
    }
   ],
   "source": [
    "from mlflow.tracking import MlflowClient\n",
    "\n",
    "## Get list of experiments\n",
    "exp_list=MlflowClient().list_experiments()\n",
    "exp_list"
   ]
  },
  {
   "cell_type": "code",
   "execution_count": 50,
   "metadata": {},
   "outputs": [],
   "source": [
    "#main experiment\n",
    "exp_id=exp_list[1].experiment_id"
   ]
  },
  {
   "cell_type": "code",
   "execution_count": 64,
   "metadata": {
    "scrolled": true
   },
   "outputs": [
    {
     "name": "stdout",
     "output_type": "stream",
     "text": [
      "Artifact URL Root file:///Users/antfra/Desktop/MLFlow%20In%20Azure/mlruns/1\n"
     ]
    }
   ],
   "source": [
    "artifactURL = MlflowClient().get_experiment(exp_id).artifact_location\n",
    "\n",
    "print(\"Artifact URL Root\",artifactURL)"
   ]
  },
  {
   "cell_type": "markdown",
   "metadata": {},
   "source": [
    "#### List Run Info for a given experiment"
   ]
  },
  {
   "cell_type": "code",
   "execution_count": 63,
   "metadata": {},
   "outputs": [
    {
     "data": {
      "text/plain": [
       "[<RunInfo: artifact_uri='file:///Users/antfra/Desktop/MLFlow%20In%20Azure/mlruns/1/5d44ba1c648d4cadb99e5acf7db47ddf/artifacts', end_time=1602178095942, experiment_id='1', lifecycle_stage='active', run_id='5d44ba1c648d4cadb99e5acf7db47ddf', run_uuid='5d44ba1c648d4cadb99e5acf7db47ddf', start_time=1602178095787, status='FINISHED', user_id='antfra'>,\n",
       " <RunInfo: artifact_uri='file:///Users/antfra/Desktop/MLFlow%20In%20Azure/mlruns/1/b53055c48dc34471aeaefe42b6950633/artifacts', end_time=1602178064238, experiment_id='1', lifecycle_stage='active', run_id='b53055c48dc34471aeaefe42b6950633', run_uuid='b53055c48dc34471aeaefe42b6950633', start_time=1602178064088, status='FINISHED', user_id='antfra'>,\n",
       " <RunInfo: artifact_uri='file:///Users/antfra/Desktop/MLFlow%20In%20Azure/mlruns/1/cee438b9deb04179a18b4d39f039b9a2/artifacts', end_time=1602178003410, experiment_id='1', lifecycle_stage='active', run_id='cee438b9deb04179a18b4d39f039b9a2', run_uuid='cee438b9deb04179a18b4d39f039b9a2', start_time=1602178003252, status='FINISHED', user_id='antfra'>,\n",
       " <RunInfo: artifact_uri='file:///Users/antfra/Desktop/MLFlow%20In%20Azure/mlruns/1/31b639083855419fbb00e1ba3f687a5f/artifacts', end_time=1602175010900, experiment_id='1', lifecycle_stage='active', run_id='31b639083855419fbb00e1ba3f687a5f', run_uuid='31b639083855419fbb00e1ba3f687a5f', start_time=1602175010787, status='FINISHED', user_id='antfra'>]"
      ]
     },
     "execution_count": 63,
     "metadata": {},
     "output_type": "execute_result"
    }
   ],
   "source": [
    "MlflowClient().list_run_infos(experiment_id=exp_id)"
   ]
  },
  {
   "cell_type": "markdown",
   "metadata": {},
   "source": [
    "Take a look at the contents of `model` above, which match what we see in the UI."
   ]
  },
  {
   "cell_type": "code",
   "execution_count": 67,
   "metadata": {},
   "outputs": [
    {
     "data": {
      "text/plain": [
       "'5d44ba1c648d4cadb99e5acf7db47ddf'"
      ]
     },
     "execution_count": 67,
     "metadata": {},
     "output_type": "execute_result"
    }
   ],
   "source": [
    "runID=MlflowClient().list_run_infos(experiment_id=exp_id)[0].run_id\n",
    "runID"
   ]
  },
  {
   "cell_type": "code",
   "execution_count": 69,
   "metadata": {},
   "outputs": [
    {
     "name": "stdout",
     "output_type": "stream",
     "text": [
      "file:///Users/antfra/Desktop/MLFlow%20In%20Azure/mlruns/1/5d44ba1c648d4cadb99e5acf7db47ddf/artifacts/\n"
     ]
    },
    {
     "data": {
      "text/plain": [
       "'model'"
      ]
     },
     "execution_count": 69,
     "metadata": {},
     "output_type": "execute_result"
    }
   ],
   "source": [
    "artifacts_folderURL=artifactURL + \"/\" +runID+\"/artifacts/\"\n",
    "print(artifacts_folderURL)\n",
    "\n",
    "#Note: the default path format may need parsing depending on OS (ie removing '%' for spaces)\n",
    "p = urlparse(artifacts_folderURL)\n",
    "filename=unquote(p.path)\n",
    "\n",
    "listdir(filename)[0]"
   ]
  },
  {
   "cell_type": "code",
   "execution_count": 70,
   "metadata": {},
   "outputs": [
    {
     "name": "stdout",
     "output_type": "stream",
     "text": [
      "file:///Users/antfra/Desktop/MLFlow%20In%20Azure/mlruns/1/5d44ba1c648d4cadb99e5acf7db47ddf/artifacts/model\n"
     ]
    },
    {
     "data": {
      "text/plain": [
       "['MLmodel', 'model.pkl', 'conda.yaml']"
      ]
     },
     "execution_count": 70,
     "metadata": {},
     "output_type": "execute_result"
    }
   ],
   "source": [
    "modelURL = artifactURL + \"/\" + runID + \"/artifacts/\" + str(listdir(filename)[0])\n",
    "print(modelURL)\n",
    "p = urlparse(modelURL)\n",
    "filename=unquote(p.path)\n",
    "\n",
    "listdir(filename)"
   ]
  },
  {
   "cell_type": "markdown",
   "metadata": {},
   "source": [
    "### Parameters, Metrics, and Artifacts\n",
    "\n",
    "But wait, there's more!  In the last example, you logged the run name, an evaluation metric, and your model itself as an artifact.  Now let's log parameters, multiple metrics, and other artifacts including the feature importances.\n",
    "\n",
    "First, create a function to perform this."
   ]
  },
  {
   "cell_type": "code",
   "execution_count": 75,
   "metadata": {},
   "outputs": [],
   "source": [
    "train_x,test_x,train_y,test_y=data_prep(df)"
   ]
  },
  {
   "cell_type": "code",
   "execution_count": 78,
   "metadata": {},
   "outputs": [],
   "source": [
    "def log_rf(experimentID, run_name, params, train_x, test_x, train_y, test_y):\n",
    "  import os\n",
    "  import matplotlib.pyplot as plt\n",
    "  import mlflow.sklearn\n",
    "  import seaborn as sns\n",
    "  from sklearn.ensemble import RandomForestRegressor\n",
    "  from sklearn.metrics import mean_squared_error, mean_absolute_error, r2_score\n",
    "  import tempfile\n",
    "\n",
    "  with mlflow.start_run(experiment_id=experimentID, run_name=run_name) as run:\n",
    "    # Create model, train it, and create predictions\n",
    "    rf = RandomForestRegressor(**params)\n",
    "    rf.fit(train_x, train_y)\n",
    "    predictions = rf.predict(test_x)\n",
    "\n",
    "    # Log model\n",
    "    mlflow.sklearn.log_model(rf, \"random-forest-model\")\n",
    "\n",
    "    # Log params\n",
    "    [mlflow.log_param(param, value) for param, value in params.items()]\n",
    "\n",
    "    # Create metrics\n",
    "    mse = mean_squared_error(test_y, predictions)\n",
    "    mae = mean_absolute_error(test_y, predictions)\n",
    "    r2 = r2_score(test_y, predictions)\n",
    "    print(\"  mse: {}\".format(mse))\n",
    "    print(\"  mae: {}\".format(mae))\n",
    "    print(\"  R2: {}\".format(r2))\n",
    "\n",
    "    # Log metrics\n",
    "    mlflow.log_metric(\"mse\", mse)\n",
    "    mlflow.log_metric(\"mae\", mae)  \n",
    "    mlflow.log_metric(\"r2\", r2)  \n",
    "    \n",
    "    # Create feature importance\n",
    "    importance = pd.DataFrame(list(zip(df.columns, rf.feature_importances_)), \n",
    "                                columns=[\"Feature\", \"Importance\"]\n",
    "                              ).sort_values(\"Importance\", ascending=False)\n",
    "    \n",
    "    # Log importances using a temporary file\n",
    "    temp = tempfile.NamedTemporaryFile(prefix=\"feature-importance-\", suffix=\".csv\")\n",
    "    temp_name = temp.name\n",
    "    print(temp_name)\n",
    "    try:\n",
    "      importance.to_csv(temp_name, index=False)\n",
    "      mlflow.log_artifact(temp_name, \"feature-importance.csv\")\n",
    "    finally:\n",
    "      temp.close() # Delete the temp file\n",
    "    \n",
    "    # Create plot\n",
    "    fig, ax = plt.subplots()\n",
    "\n",
    "    sns.residplot(predictions, test_y, lowess=True)\n",
    "    plt.xlabel(\"Predicted values for Quality ($)\")\n",
    "    plt.ylabel(\"Residual\")\n",
    "    plt.title(\"Residual Plot\")\n",
    "\n",
    "    # Log residuals using a temporary file\n",
    "    temp = tempfile.NamedTemporaryFile(prefix=\"residuals-\", suffix=\".png\")\n",
    "    temp_name = temp.name\n",
    "    print(temp_name)\n",
    "    try:\n",
    "      fig.savefig(temp_name)\n",
    "      mlflow.log_artifact(temp_name, \"residuals.png\")\n",
    "    finally:\n",
    "      temp.close() # Delete the temp file\n",
    "    \n",
    "    print(run.info.run_uuid)\n",
    "    display(fig)\n",
    "    \n",
    "    return run.info.run_uuid"
   ]
  },
  {
   "cell_type": "markdown",
   "metadata": {},
   "source": [
    "Run with new parameters."
   ]
  },
  {
   "cell_type": "code",
   "execution_count": 81,
   "metadata": {
    "scrolled": true
   },
   "outputs": [
    {
     "name": "stdout",
     "output_type": "stream",
     "text": [
      "  mse: 0.49692080881346906\n",
      "  mae: 0.5561292450318689\n",
      "  R2: 0.35991791483414337\n",
      "/var/folders/n6/qmpybzn97zb7xrz6gb04rfy00000gn/T/feature-importance-irwagsr9.csv\n",
      "/var/folders/n6/qmpybzn97zb7xrz6gb04rfy00000gn/T/residuals-8odyok9h.png\n",
      "7df589670391459ebeeb93c735d6fa84\n"
     ]
    },
    {
     "data": {
      "image/png": "[encoded data removed]",
      "text/plain": [
       "<Figure size 432x288 with 1 Axes>"
      ]
     },
     "metadata": {},
     "output_type": "display_data"
    },
    {
     "data": {
      "text/plain": [
       "'7df589670391459ebeeb93c735d6fa84'"
      ]
     },
     "execution_count": 81,
     "metadata": {},
     "output_type": "execute_result"
    },
    {
     "data": {
      "image/png": "[encoded data removed]",
      "text/plain": [
       "<Figure size 432x288 with 1 Axes>"
      ]
     },
     "metadata": {
      "needs_background": "light"
     },
     "output_type": "display_data"
    }
   ],
   "source": [
    "params = {\n",
    "  \"n_estimators\": 100,\n",
    "  \"max_depth\": 5,\n",
    "  \"random_state\": 42\n",
    "}\n",
    "\n",
    "log_rf(exp_id, \"Second Run\", params, train_x, test_x, train_y, test_y)"
   ]
  },
  {
   "cell_type": "markdown",
   "metadata": {},
   "source": [
    "Check the UI to see how this appears.  Take a look at the artifact to see where the plot was saved.\n",
    "\n",
    "Now, run a third run."
   ]
  },
  {
   "cell_type": "code",
   "execution_count": 82,
   "metadata": {},
   "outputs": [
    {
     "name": "stdout",
     "output_type": "stream",
     "text": [
      "  mse: 0.4173922811232713\n",
      "  mae: 0.4942128644677261\n",
      "  R2: 0.46235835389657887\n",
      "/var/folders/n6/qmpybzn97zb7xrz6gb04rfy00000gn/T/feature-importance-m04mool_.csv\n",
      "/var/folders/n6/qmpybzn97zb7xrz6gb04rfy00000gn/T/residuals-nt1mhj9e.png\n",
      "61032a3c010c4f7aafe44da909fdc963\n"
     ]
    },
    {
     "data": {
      "image/png": "[encoded data removed]",
      "text/plain": [
       "<Figure size 432x288 with 1 Axes>"
      ]
     },
     "metadata": {},
     "output_type": "display_data"
    },
    {
     "data": {
      "text/plain": [
       "'61032a3c010c4f7aafe44da909fdc963'"
      ]
     },
     "execution_count": 82,
     "metadata": {},
     "output_type": "execute_result"
    },
    {
     "data": {
      "image/png": "[encoded data removed]",
      "text/plain": [
       "<Figure size 432x288 with 1 Axes>"
      ]
     },
     "metadata": {
      "needs_background": "light"
     },
     "output_type": "display_data"
    }
   ],
   "source": [
    "params_1000_trees = {\n",
    "  \"n_estimators\": 1000,\n",
    "  \"max_depth\": 10,\n",
    "  \"random_state\": 42\n",
    "}\n",
    "\n",
    "log_rf(exp_id, \"Third Run\", params_1000_trees, train_x, test_x, train_y, test_y)"
   ]
  },
  {
   "cell_type": "markdown",
   "metadata": {},
   "source": [
    "### Querying Past Runs\n",
    "\n",
    "You can query past runs programatically in order to use this data back in Python.  The pathway to doing this is an `MlflowClient` object. "
   ]
  },
  {
   "cell_type": "code",
   "execution_count": 83,
   "metadata": {},
   "outputs": [],
   "source": [
    "from  mlflow.tracking import MlflowClient\n",
    "\n",
    "client = MlflowClient()"
   ]
  },
  {
   "cell_type": "markdown",
   "metadata": {},
   "source": [
    "Now list all the runs for your experiment using `.list_run_infos()`, which takes your `experiment_id` as a parameter."
   ]
  },
  {
   "cell_type": "code",
   "execution_count": 85,
   "metadata": {},
   "outputs": [
    {
     "data": {
      "text/plain": [
       "[<RunInfo: artifact_uri='file:///Users/antfra/Desktop/MLFlow%20In%20Azure/mlruns/1/61032a3c010c4f7aafe44da909fdc963/artifacts', end_time=1602181381299, experiment_id='1', lifecycle_stage='active', run_id='61032a3c010c4f7aafe44da909fdc963', run_uuid='61032a3c010c4f7aafe44da909fdc963', start_time=1602181370949, status='FINISHED', user_id='antfra'>,\n",
       " <RunInfo: artifact_uri='file:///Users/antfra/Desktop/MLFlow%20In%20Azure/mlruns/1/7df589670391459ebeeb93c735d6fa84/artifacts', end_time=1602181321942, experiment_id='1', lifecycle_stage='active', run_id='7df589670391459ebeeb93c735d6fa84', run_uuid='7df589670391459ebeeb93c735d6fa84', start_time=1602181320848, status='FINISHED', user_id='antfra'>,\n",
       " <RunInfo: artifact_uri='file:///Users/antfra/Desktop/MLFlow%20In%20Azure/mlruns/1/66f8fdda82ea408c85c0c81985ba169c/artifacts', end_time=1602181189609, experiment_id='1', lifecycle_stage='active', run_id='66f8fdda82ea408c85c0c81985ba169c', run_uuid='66f8fdda82ea408c85c0c81985ba169c', start_time=1602181188133, status='FINISHED', user_id='antfra'>,\n",
       " <RunInfo: artifact_uri='file:///Users/antfra/Desktop/MLFlow%20In%20Azure/mlruns/1/f9d6b0a22f8b474b827e0bb09e40dda6/artifacts', end_time=1602181027142, experiment_id='1', lifecycle_stage='active', run_id='f9d6b0a22f8b474b827e0bb09e40dda6', run_uuid='f9d6b0a22f8b474b827e0bb09e40dda6', start_time=1602181026521, status='FAILED', user_id='antfra'>,\n",
       " <RunInfo: artifact_uri='file:///Users/antfra/Desktop/MLFlow%20In%20Azure/mlruns/1/caa66357fee4417992fb223dcda85e6d/artifacts', end_time=1602180969666, experiment_id='1', lifecycle_stage='active', run_id='caa66357fee4417992fb223dcda85e6d', run_uuid='caa66357fee4417992fb223dcda85e6d', start_time=1602180969108, status='FAILED', user_id='antfra'>,\n",
       " <RunInfo: artifact_uri='file:///Users/antfra/Desktop/MLFlow%20In%20Azure/mlruns/1/5d44ba1c648d4cadb99e5acf7db47ddf/artifacts', end_time=1602178095942, experiment_id='1', lifecycle_stage='active', run_id='5d44ba1c648d4cadb99e5acf7db47ddf', run_uuid='5d44ba1c648d4cadb99e5acf7db47ddf', start_time=1602178095787, status='FINISHED', user_id='antfra'>,\n",
       " <RunInfo: artifact_uri='file:///Users/antfra/Desktop/MLFlow%20In%20Azure/mlruns/1/b53055c48dc34471aeaefe42b6950633/artifacts', end_time=1602178064238, experiment_id='1', lifecycle_stage='active', run_id='b53055c48dc34471aeaefe42b6950633', run_uuid='b53055c48dc34471aeaefe42b6950633', start_time=1602178064088, status='FINISHED', user_id='antfra'>,\n",
       " <RunInfo: artifact_uri='file:///Users/antfra/Desktop/MLFlow%20In%20Azure/mlruns/1/cee438b9deb04179a18b4d39f039b9a2/artifacts', end_time=1602178003410, experiment_id='1', lifecycle_stage='active', run_id='cee438b9deb04179a18b4d39f039b9a2', run_uuid='cee438b9deb04179a18b4d39f039b9a2', start_time=1602178003252, status='FINISHED', user_id='antfra'>,\n",
       " <RunInfo: artifact_uri='file:///Users/antfra/Desktop/MLFlow%20In%20Azure/mlruns/1/31b639083855419fbb00e1ba3f687a5f/artifacts', end_time=1602175010900, experiment_id='1', lifecycle_stage='active', run_id='31b639083855419fbb00e1ba3f687a5f', run_uuid='31b639083855419fbb00e1ba3f687a5f', start_time=1602175010787, status='FINISHED', user_id='antfra'>]"
      ]
     },
     "execution_count": 85,
     "metadata": {},
     "output_type": "execute_result"
    }
   ],
   "source": [
    "client.list_run_infos(exp_id)"
   ]
  },
  {
   "cell_type": "markdown",
   "metadata": {},
   "source": [
    "Pull out a few fields and create a pandas DataFrame with it."
   ]
  },
  {
   "cell_type": "code",
   "execution_count": 86,
   "metadata": {},
   "outputs": [
    {
     "data": {
      "text/html": [
       "<div>\n",
       "<style scoped>\n",
       "    .dataframe tbody tr th:only-of-type {\n",
       "        vertical-align: middle;\n",
       "    }\n",
       "\n",
       "    .dataframe tbody tr th {\n",
       "        vertical-align: top;\n",
       "    }\n",
       "\n",
       "    .dataframe thead th {\n",
       "        text-align: right;\n",
       "    }\n",
       "</style>\n",
       "<table border=\"1\" class=\"dataframe\">\n",
       "  <thead>\n",
       "    <tr style=\"text-align: right;\">\n",
       "      <th></th>\n",
       "      <th>run_uuid</th>\n",
       "      <th>start_time</th>\n",
       "      <th>artifact_uri</th>\n",
       "    </tr>\n",
       "  </thead>\n",
       "  <tbody>\n",
       "    <tr>\n",
       "      <th>0</th>\n",
       "      <td>61032a3c010c4f7aafe44da909fdc963</td>\n",
       "      <td>1602181370949</td>\n",
       "      <td>file:///Users/antfra/Desktop/MLFlow%20In%20Azu...</td>\n",
       "    </tr>\n",
       "    <tr>\n",
       "      <th>1</th>\n",
       "      <td>7df589670391459ebeeb93c735d6fa84</td>\n",
       "      <td>1602181320848</td>\n",
       "      <td>file:///Users/antfra/Desktop/MLFlow%20In%20Azu...</td>\n",
       "    </tr>\n",
       "    <tr>\n",
       "      <th>2</th>\n",
       "      <td>66f8fdda82ea408c85c0c81985ba169c</td>\n",
       "      <td>1602181188133</td>\n",
       "      <td>file:///Users/antfra/Desktop/MLFlow%20In%20Azu...</td>\n",
       "    </tr>\n",
       "    <tr>\n",
       "      <th>3</th>\n",
       "      <td>f9d6b0a22f8b474b827e0bb09e40dda6</td>\n",
       "      <td>1602181026521</td>\n",
       "      <td>file:///Users/antfra/Desktop/MLFlow%20In%20Azu...</td>\n",
       "    </tr>\n",
       "    <tr>\n",
       "      <th>4</th>\n",
       "      <td>caa66357fee4417992fb223dcda85e6d</td>\n",
       "      <td>1602180969108</td>\n",
       "      <td>file:///Users/antfra/Desktop/MLFlow%20In%20Azu...</td>\n",
       "    </tr>\n",
       "    <tr>\n",
       "      <th>5</th>\n",
       "      <td>5d44ba1c648d4cadb99e5acf7db47ddf</td>\n",
       "      <td>1602178095787</td>\n",
       "      <td>file:///Users/antfra/Desktop/MLFlow%20In%20Azu...</td>\n",
       "    </tr>\n",
       "    <tr>\n",
       "      <th>6</th>\n",
       "      <td>b53055c48dc34471aeaefe42b6950633</td>\n",
       "      <td>1602178064088</td>\n",
       "      <td>file:///Users/antfra/Desktop/MLFlow%20In%20Azu...</td>\n",
       "    </tr>\n",
       "    <tr>\n",
       "      <th>7</th>\n",
       "      <td>cee438b9deb04179a18b4d39f039b9a2</td>\n",
       "      <td>1602178003252</td>\n",
       "      <td>file:///Users/antfra/Desktop/MLFlow%20In%20Azu...</td>\n",
       "    </tr>\n",
       "    <tr>\n",
       "      <th>8</th>\n",
       "      <td>31b639083855419fbb00e1ba3f687a5f</td>\n",
       "      <td>1602175010787</td>\n",
       "      <td>file:///Users/antfra/Desktop/MLFlow%20In%20Azu...</td>\n",
       "    </tr>\n",
       "  </tbody>\n",
       "</table>\n",
       "</div>"
      ],
      "text/plain": [
       "                           run_uuid     start_time  \\\n",
       "0  61032a3c010c4f7aafe44da909fdc963  1602181370949   \n",
       "1  7df589670391459ebeeb93c735d6fa84  1602181320848   \n",
       "2  66f8fdda82ea408c85c0c81985ba169c  1602181188133   \n",
       "3  f9d6b0a22f8b474b827e0bb09e40dda6  1602181026521   \n",
       "4  caa66357fee4417992fb223dcda85e6d  1602180969108   \n",
       "5  5d44ba1c648d4cadb99e5acf7db47ddf  1602178095787   \n",
       "6  b53055c48dc34471aeaefe42b6950633  1602178064088   \n",
       "7  cee438b9deb04179a18b4d39f039b9a2  1602178003252   \n",
       "8  31b639083855419fbb00e1ba3f687a5f  1602175010787   \n",
       "\n",
       "                                        artifact_uri  \n",
       "0  file:///Users/antfra/Desktop/MLFlow%20In%20Azu...  \n",
       "1  file:///Users/antfra/Desktop/MLFlow%20In%20Azu...  \n",
       "2  file:///Users/antfra/Desktop/MLFlow%20In%20Azu...  \n",
       "3  file:///Users/antfra/Desktop/MLFlow%20In%20Azu...  \n",
       "4  file:///Users/antfra/Desktop/MLFlow%20In%20Azu...  \n",
       "5  file:///Users/antfra/Desktop/MLFlow%20In%20Azu...  \n",
       "6  file:///Users/antfra/Desktop/MLFlow%20In%20Azu...  \n",
       "7  file:///Users/antfra/Desktop/MLFlow%20In%20Azu...  \n",
       "8  file:///Users/antfra/Desktop/MLFlow%20In%20Azu...  "
      ]
     },
     "metadata": {},
     "output_type": "display_data"
    }
   ],
   "source": [
    "runs = pd.DataFrame([(run.run_uuid, run.start_time, run.artifact_uri) for run in client.list_run_infos(exp_id)])\n",
    "runs.columns = [\"run_uuid\", \"start_time\", \"artifact_uri\"]\n",
    "\n",
    "display(runs)"
   ]
  },
  {
   "cell_type": "markdown",
   "metadata": {},
   "source": [
    "Pull the last run and take a look at the associated artifacts."
   ]
  },
  {
   "cell_type": "code",
   "execution_count": 87,
   "metadata": {},
   "outputs": [
    {
     "name": "stdout",
     "output_type": "stream",
     "text": [
      "file:///Users/antfra/Desktop/MLFlow%20In%20Azure/mlruns/1/61032a3c010c4f7aafe44da909fdc963/artifacts/random-forest-model/\n"
     ]
    }
   ],
   "source": [
    "last_run = runs.sort_values(\"start_time\", ascending=False).iloc[0]\n",
    "\n",
    "print(last_run.artifact_uri+ \"/random-forest-model/\")"
   ]
  },
  {
   "cell_type": "code",
   "execution_count": 88,
   "metadata": {},
   "outputs": [
    {
     "data": {
      "text/plain": [
       "['MLmodel', 'model.pkl', 'conda.yaml']"
      ]
     },
     "execution_count": 88,
     "metadata": {},
     "output_type": "execute_result"
    }
   ],
   "source": [
    "#transform URI into a path\n",
    "p = urlparse(last_run.artifact_uri+ \"/random-forest-model/\")\n",
    "filename=unquote(p.path)\n",
    "\n",
    "listdir(filename)"
   ]
  },
  {
   "cell_type": "markdown",
   "metadata": {},
   "source": [
    "Return the evaluation metrics for the last run."
   ]
  },
  {
   "cell_type": "code",
   "execution_count": 89,
   "metadata": {},
   "outputs": [
    {
     "data": {
      "text/plain": [
       "{'mae': 0.4942128644677261,\n",
       " 'mse': 0.4173922811232713,\n",
       " 'r2': 0.46235835389657887}"
      ]
     },
     "execution_count": 89,
     "metadata": {},
     "output_type": "execute_result"
    }
   ],
   "source": [
    "client.get_run(last_run.run_uuid).data.metrics"
   ]
  },
  {
   "cell_type": "code",
   "execution_count": 90,
   "metadata": {},
   "outputs": [
    {
     "data": {
      "text/plain": [
       "<Run: data=<RunData: metrics={'mae': 0.4942128644677261,\n",
       " 'mse': 0.4173922811232713,\n",
       " 'r2': 0.46235835389657887}, params={'max_depth': '10', 'n_estimators': '1000', 'random_state': '42'}, tags={'mlflow.log-model.history': '[{\"run_id\": \"61032a3c010c4f7aafe44da909fdc963\", '\n",
       "                             '\"artifact_path\": \"random-forest-model\", '\n",
       "                             '\"utc_time_created\": \"2020-10-08 '\n",
       "                             '18:23:00.499370\", \"flavors\": {\"python_function\": '\n",
       "                             '{\"model_path\": \"model.pkl\", \"loader_module\": '\n",
       "                             '\"mlflow.sklearn\", \"python_version\": \"3.8.1\", '\n",
       "                             '\"env\": \"conda.yaml\"}, \"sklearn\": '\n",
       "                             '{\"pickled_model\": \"model.pkl\", '\n",
       "                             '\"sklearn_version\": \"0.23.2\", '\n",
       "                             '\"serialization_format\": \"cloudpickle\"}}}]',\n",
       " 'mlflow.runName': 'Third Run',\n",
       " 'mlflow.source.git.commit': '70635dade88cc31365a8a0b2275b639981cbab63',\n",
       " 'mlflow.source.name': '/Users/antfra/.pyenv/versions/3.8.1/envs/mlflow_tutorial/lib/python3.8/site-packages/ipykernel_launcher.py',\n",
       " 'mlflow.source.type': 'LOCAL',\n",
       " 'mlflow.user': 'antfra'}>, info=<RunInfo: artifact_uri='file:///Users/antfra/Desktop/MLFlow%20In%20Azure/mlruns/1/61032a3c010c4f7aafe44da909fdc963/artifacts', end_time=1602181381299, experiment_id='1', lifecycle_stage='active', run_id='61032a3c010c4f7aafe44da909fdc963', run_uuid='61032a3c010c4f7aafe44da909fdc963', start_time=1602181370949, status='FINISHED', user_id='antfra'>>"
      ]
     },
     "execution_count": 90,
     "metadata": {},
     "output_type": "execute_result"
    }
   ],
   "source": [
    "client.get_run(last_run.run_uuid)"
   ]
  },
  {
   "cell_type": "markdown",
   "metadata": {},
   "source": [
    "Reload the model and take a look at the feature importance."
   ]
  },
  {
   "cell_type": "code",
   "execution_count": 91,
   "metadata": {},
   "outputs": [
    {
     "name": "stdout",
     "output_type": "stream",
     "text": [
      "file:///Users/antfra/Desktop/MLFlow%20In%20Azure/mlruns/1/61032a3c010c4f7aafe44da909fdc963/artifacts\n"
     ]
    }
   ],
   "source": [
    "print(last_run.artifact_uri)"
   ]
  },
  {
   "cell_type": "code",
   "execution_count": 92,
   "metadata": {},
   "outputs": [
    {
     "data": {
      "text/plain": [
       "array([0.0550671 , 0.13997047, 0.04915428, 0.05951664, 0.05137144,\n",
       "       0.12424812, 0.05274532, 0.04767693, 0.06316617, 0.05142996,\n",
       "       0.30565357])"
      ]
     },
     "execution_count": 92,
     "metadata": {},
     "output_type": "execute_result"
    }
   ],
   "source": [
    "import mlflow.sklearn\n",
    "\n",
    "model = mlflow.sklearn.load_model(last_run.artifact_uri + \"/random-forest-model/\")\n",
    "model.feature_importances_"
   ]
  },
  {
   "cell_type": "code",
   "execution_count": null,
   "metadata": {},
   "outputs": [],
   "source": []
  }
 ],
 "metadata": {
  "kernelspec": {
   "display_name": "Python 3",
   "language": "python",
   "name": "python3"
  },
  "language_info": {
   "codemirror_mode": {
    "name": "ipython",
    "version": 3
   },
   "file_extension": ".py",
   "mimetype": "text/x-python",
   "name": "python",
   "nbconvert_exporter": "python",
   "pygments_lexer": "ipython3",
   "version": "3.8.1"
  },
  "name": "02-Experiment-Tracking",
  "notebookId": 4442749364359340
 },
 "nbformat": 4,
 "nbformat_minor": 4
}
