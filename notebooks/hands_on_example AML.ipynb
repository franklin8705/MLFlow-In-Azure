{
 "cells": [
  {
   "cell_type": "markdown",
   "metadata": {},
   "source": [
    "# Hands-on example (Azure ML)"
   ]
  },
  {
   "cell_type": "markdown",
   "metadata": {},
   "source": [
    "## Use MLflow with Azure Machine Learning to Train and Deploy An ML Model\n",
    "\n",
    "This example shows you how to use MLflow together with Azure Machine Learning services for tracking the metrics and artifacts while training a regression model to predict wine quality using an ElasticNet model and deploy the model as a web service. You'll learn how to:\n",
    "\n",
    " 1. Set up MLflow tracking URI so as to use Azure ML\n",
    " 2. Create experiment\n",
    " 3. Instrument your model with MLflow tracking\n",
    " 4. Train a regression model locally with MLflow\n",
    " 5. View your experiment within your Azure ML Workspace in Azure Portal\n",
    " 6. Deploy the model as a web service on Azure Container Instance\n",
    " 7. Call the model to make predictions\n",
    " \n",
    "### Pre-requisites\n",
    " \n",
    "If you are using a Notebook VM, you are all set. Otherwise, go through the [Configuration](https://github.com/Azure/MachineLearningNotebooks/blob/master/configuration.ipynb) notebook to set up your Azure Machine Learning workspace and ensure other common prerequisites are met.\n",
    "\n",
    "Install azureml-mlflow package using ```pip install azureml-mlflow```. Note that azureml-mlflow installs mlflow package itself as a dependency if you haven't done so previously.\n",
    "\n",
    "### Set-up\n",
    "\n",
    "Import packages and check versions of Azure ML SDK and MLflow installed on your computer. Then connect to your Workspace."
   ]
  },
  {
   "cell_type": "code",
   "execution_count": 69,
   "metadata": {},
   "outputs": [],
   "source": [
    "import os\n",
    "import warnings\n",
    "import sys\n",
    "import pandas as pd\n",
    "import numpy as np\n",
    "import matplotlib.pyplot as plt\n",
    "import requests\n",
    "import json\n",
    "\n",
    "#Sklearn\n",
    "from sklearn.metrics import mean_squared_error, mean_absolute_error, r2_score\n",
    "from sklearn.model_selection import train_test_split\n",
    "from sklearn.linear_model import ElasticNet\n",
    "\n",
    "#Azure\n",
    "import azureml.core\n",
    "import azureml.dataprep\n",
    "from azureml.core import Workspace, Dataset, Experiment\n",
    "from azureml.core.webservice import AciWebservice, Webservice\n",
    "from azure.storage.blob import BlobServiceClient\n",
    "from azureml.core.authentication import ServicePrincipalAuthentication\n",
    "\n",
    "#MLFlow\n",
    "import mlflow\n",
    "import mlflow.sklearn\n",
    "import mlflow.azureml\n",
    "from mlflow.entities import ViewType\n",
    "\n",
    "#Temporarily filter all warning for demo\n",
    "warnings.filterwarnings(\"ignore\")"
   ]
  },
  {
   "cell_type": "code",
   "execution_count": 4,
   "metadata": {
    "scrolled": true
   },
   "outputs": [
    {
     "name": "stdout",
     "output_type": "stream",
     "text": [
      "SDK version: 1.15.0\n"
     ]
    }
   ],
   "source": [
    "# Check core SDK version number\n",
    "print(\"SDK version:\", azureml.core.VERSION)"
   ]
  },
  {
   "cell_type": "markdown",
   "metadata": {},
   "source": [
    "### Update Working Directory"
   ]
  },
  {
   "cell_type": "code",
   "execution_count": 5,
   "metadata": {},
   "outputs": [
    {
     "data": {
      "text/plain": [
       "'/Users/antfra/Desktop/MLFlow In Azure/notebooks'"
      ]
     },
     "execution_count": 5,
     "metadata": {},
     "output_type": "execute_result"
    }
   ],
   "source": [
    "os.getcwd()"
   ]
  },
  {
   "cell_type": "code",
   "execution_count": 6,
   "metadata": {},
   "outputs": [
    {
     "data": {
      "text/plain": [
       "'/Users/antfra/Desktop/MLFlow In Azure'"
      ]
     },
     "execution_count": 6,
     "metadata": {},
     "output_type": "execute_result"
    }
   ],
   "source": [
    "#get path to parent folder (root folder)\n",
    "parent_folder=os.path.dirname(os.getcwd())\n",
    "parent_folder"
   ]
  },
  {
   "cell_type": "code",
   "execution_count": 7,
   "metadata": {},
   "outputs": [],
   "source": [
    "#set system path to parent folder\n",
    "sys.path.insert(0,parent_folder)"
   ]
  },
  {
   "cell_type": "markdown",
   "metadata": {},
   "source": [
    "### Set Up Authentication"
   ]
  },
  {
   "cell_type": "code",
   "execution_count": 8,
   "metadata": {},
   "outputs": [],
   "source": [
    "#get environment variables\n",
    "from dotenv import load_dotenv\n",
    "from settings import (AZURE_SUBSCRIPTION_ID,AZURE_RESOURCE_GROUP, \n",
    "                     AZURE_TENANT_ID)"
   ]
  },
  {
   "cell_type": "code",
   "execution_count": 37,
   "metadata": {},
   "outputs": [],
   "source": [
    "subscription_id = AZURE_SUBSCRIPTION_ID\n",
    "resource_group = AZURE_RESOURCE_GROUP\n",
    "workspace_name = 'mlflow_tutorial' #previous existing azureml workspace for this tutorial"
   ]
  },
  {
   "cell_type": "markdown",
   "metadata": {},
   "source": [
    "## 0. The data"
   ]
  },
  {
   "cell_type": "markdown",
   "metadata": {},
   "source": [
    "* The data set used in this example is from http://archive.ics.uci.edu/ml/datasets/Wine+Quality\n",
    "* P. Cortez, A. Cerdeira, F. Almeida, T. Matos and J. Reis.\n",
    "* Modeling wine preferences by data mining from physicochemical properties. In Decision Support Systems, Elsevier, 47(4):547-553, 2009."
   ]
  },
  {
   "cell_type": "markdown",
   "metadata": {},
   "source": [
    "#### Get workspace object from azureml sdk"
   ]
  },
  {
   "cell_type": "code",
   "execution_count": 38,
   "metadata": {
    "collapsed": false,
    "jupyter": {
     "outputs_hidden": false,
     "source_hidden": false
    },
    "nteract": {
     "transient": {
      "deleting": false
     }
    },
    "scrolled": true
   },
   "outputs": [
    {
     "data": {
      "text/html": [
       "<div>\n",
       "<style scoped>\n",
       "    .dataframe tbody tr th:only-of-type {\n",
       "        vertical-align: middle;\n",
       "    }\n",
       "\n",
       "    .dataframe tbody tr th {\n",
       "        vertical-align: top;\n",
       "    }\n",
       "\n",
       "    .dataframe thead th {\n",
       "        text-align: right;\n",
       "    }\n",
       "</style>\n",
       "<table border=\"1\" class=\"dataframe\">\n",
       "  <thead>\n",
       "    <tr style=\"text-align: right;\">\n",
       "      <th></th>\n",
       "      <th>fixed acidity</th>\n",
       "      <th>volatile acidity</th>\n",
       "      <th>citric acid</th>\n",
       "      <th>residual sugar</th>\n",
       "      <th>chlorides</th>\n",
       "      <th>free sulfur dioxide</th>\n",
       "      <th>total sulfur dioxide</th>\n",
       "      <th>density</th>\n",
       "      <th>pH</th>\n",
       "      <th>sulphates</th>\n",
       "      <th>alcohol</th>\n",
       "      <th>quality</th>\n",
       "    </tr>\n",
       "  </thead>\n",
       "  <tbody>\n",
       "    <tr>\n",
       "      <th>0</th>\n",
       "      <td>7.0</td>\n",
       "      <td>0.27</td>\n",
       "      <td>0.36</td>\n",
       "      <td>20.7</td>\n",
       "      <td>0.045</td>\n",
       "      <td>45.0</td>\n",
       "      <td>170.0</td>\n",
       "      <td>1.0010</td>\n",
       "      <td>3.00</td>\n",
       "      <td>0.45</td>\n",
       "      <td>8.8</td>\n",
       "      <td>6</td>\n",
       "    </tr>\n",
       "    <tr>\n",
       "      <th>1</th>\n",
       "      <td>6.3</td>\n",
       "      <td>0.30</td>\n",
       "      <td>0.34</td>\n",
       "      <td>1.6</td>\n",
       "      <td>0.049</td>\n",
       "      <td>14.0</td>\n",
       "      <td>132.0</td>\n",
       "      <td>0.9940</td>\n",
       "      <td>3.30</td>\n",
       "      <td>0.49</td>\n",
       "      <td>9.5</td>\n",
       "      <td>6</td>\n",
       "    </tr>\n",
       "    <tr>\n",
       "      <th>2</th>\n",
       "      <td>8.1</td>\n",
       "      <td>0.28</td>\n",
       "      <td>0.40</td>\n",
       "      <td>6.9</td>\n",
       "      <td>0.050</td>\n",
       "      <td>30.0</td>\n",
       "      <td>97.0</td>\n",
       "      <td>0.9951</td>\n",
       "      <td>3.26</td>\n",
       "      <td>0.44</td>\n",
       "      <td>10.1</td>\n",
       "      <td>6</td>\n",
       "    </tr>\n",
       "    <tr>\n",
       "      <th>3</th>\n",
       "      <td>7.2</td>\n",
       "      <td>0.23</td>\n",
       "      <td>0.32</td>\n",
       "      <td>8.5</td>\n",
       "      <td>0.058</td>\n",
       "      <td>47.0</td>\n",
       "      <td>186.0</td>\n",
       "      <td>0.9956</td>\n",
       "      <td>3.19</td>\n",
       "      <td>0.40</td>\n",
       "      <td>9.9</td>\n",
       "      <td>6</td>\n",
       "    </tr>\n",
       "    <tr>\n",
       "      <th>4</th>\n",
       "      <td>7.2</td>\n",
       "      <td>0.23</td>\n",
       "      <td>0.32</td>\n",
       "      <td>8.5</td>\n",
       "      <td>0.058</td>\n",
       "      <td>47.0</td>\n",
       "      <td>186.0</td>\n",
       "      <td>0.9956</td>\n",
       "      <td>3.19</td>\n",
       "      <td>0.40</td>\n",
       "      <td>9.9</td>\n",
       "      <td>6</td>\n",
       "    </tr>\n",
       "  </tbody>\n",
       "</table>\n",
       "</div>"
      ],
      "text/plain": [
       "   fixed acidity  volatile acidity  citric acid  residual sugar  chlorides  free sulfur dioxide  total sulfur dioxide  density    pH  sulphates  alcohol  quality\n",
       "0            7.0              0.27         0.36            20.7      0.045                 45.0                 170.0   1.0010  3.00       0.45      8.8        6\n",
       "1            6.3              0.30         0.34             1.6      0.049                 14.0                 132.0   0.9940  3.30       0.49      9.5        6\n",
       "2            8.1              0.28         0.40             6.9      0.050                 30.0                  97.0   0.9951  3.26       0.44     10.1        6\n",
       "3            7.2              0.23         0.32             8.5      0.058                 47.0                 186.0   0.9956  3.19       0.40      9.9        6\n",
       "4            7.2              0.23         0.32             8.5      0.058                 47.0                 186.0   0.9956  3.19       0.40      9.9        6"
      ]
     },
     "execution_count": 38,
     "metadata": {},
     "output_type": "execute_result"
    }
   ],
   "source": [
    "##Use this if inside AML Studio\n",
    "# ws = Workspace.from_config()\n",
    "ws = Workspace(subscription_id, resource_group, workspace_name)\n",
    "\n",
    "dataset = Dataset.get_by_name(ws, name='wine-quality')\n",
    "dataset.to_pandas_dataframe().head()"
   ]
  },
  {
   "cell_type": "markdown",
   "metadata": {},
   "source": [
    "## 1. Set Up Tracking Server"
   ]
  },
  {
   "cell_type": "markdown",
   "metadata": {},
   "source": [
    "### Set Tracking URI to Azure ML Workspace"
   ]
  },
  {
   "cell_type": "markdown",
   "metadata": {},
   "source": [
    "#### Azure Tracking URI"
   ]
  },
  {
   "cell_type": "code",
   "execution_count": 12,
   "metadata": {},
   "outputs": [
    {
     "data": {
      "text/plain": [
       "'azureml://eastus.experiments.azureml.net/mlflow/v1.0/subscriptions/e1eb783d-78a5-42a4-bae3-bc0ddd433898/resourceGroups/robotdemo/providers/Microsoft.MachineLearningServices/workspaces/mlflow_tutorial?'"
      ]
     },
     "execution_count": 12,
     "metadata": {},
     "output_type": "execute_result"
    }
   ],
   "source": [
    "ws.get_mlflow_tracking_uri()"
   ]
  },
  {
   "cell_type": "markdown",
   "metadata": {},
   "source": [
    "#### Local Tracking URI"
   ]
  },
  {
   "cell_type": "code",
   "execution_count": 11,
   "metadata": {},
   "outputs": [
    {
     "data": {
      "text/plain": [
       "'file:///Users/antfra/Desktop/MLFlow%20In%20Azure/notebooks/mlruns'"
      ]
     },
     "execution_count": 11,
     "metadata": {},
     "output_type": "execute_result"
    }
   ],
   "source": [
    "mlflow.tracking.get_tracking_uri()"
   ]
  },
  {
   "cell_type": "markdown",
   "metadata": {},
   "source": [
    "#### Point MLflow To Azure URI"
   ]
  },
  {
   "cell_type": "code",
   "execution_count": 13,
   "metadata": {},
   "outputs": [],
   "source": [
    "mlflow.set_tracking_uri(ws.get_mlflow_tracking_uri())"
   ]
  },
  {
   "cell_type": "markdown",
   "metadata": {},
   "source": [
    "## 2. Create Experiment"
   ]
  },
  {
   "cell_type": "markdown",
   "metadata": {},
   "source": [
    "#### Create Experiment"
   ]
  },
  {
   "cell_type": "code",
   "execution_count": 48,
   "metadata": {},
   "outputs": [],
   "source": [
    "exp_name = \"mlflow_aml_spark\""
   ]
  },
  {
   "cell_type": "code",
   "execution_count": 49,
   "metadata": {},
   "outputs": [],
   "source": [
    "exp_id=mlflow.create_experiment(exp_name)"
   ]
  },
  {
   "cell_type": "code",
   "execution_count": 50,
   "metadata": {},
   "outputs": [],
   "source": [
    "mlflow.set_experiment(exp_name)"
   ]
  },
  {
   "cell_type": "markdown",
   "metadata": {},
   "source": [
    "#### List experiments"
   ]
  },
  {
   "cell_type": "code",
   "execution_count": 51,
   "metadata": {
    "scrolled": true
   },
   "outputs": [
    {
     "data": {
      "text/plain": [
       "[<Experiment: artifact_location='', experiment_id='fe3ff3a4-0fa3-4075-bd4f-8352d3b501d9', lifecycle_stage='active', name='ElasticNet_wine_AML', tags={}>,\n",
       " <Experiment: artifact_location='', experiment_id='fc950002-c0b7-4ca0-b1dc-d1685a7ab854', lifecycle_stage='active', name='My Simple New Experiment AML', tags={}>,\n",
       " <Experiment: artifact_location='', experiment_id='7fa3ecfb-f601-46c0-a54b-90e9784e6785', lifecycle_stage='active', name='My Simple New Experiment AML - SPARK', tags={}>,\n",
       " <Experiment: artifact_location='', experiment_id='9dfeb90d-68ad-4e4c-8eb8-f996428ae994', lifecycle_stage='active', name='My New Experiment AML - SPARK', tags={}>,\n",
       " <Experiment: artifact_location='', experiment_id='a3f991b6-5c32-4f14-b448-6f695fd25c76', lifecycle_stage='active', name='mlflow_aml_spark', tags={}>]"
      ]
     },
     "execution_count": 51,
     "metadata": {},
     "output_type": "execute_result"
    }
   ],
   "source": [
    "mlflow.tracking.MlflowClient().list_experiments()"
   ]
  },
  {
   "cell_type": "markdown",
   "metadata": {},
   "source": [
    "## 3. Instrument Model"
   ]
  },
  {
   "cell_type": "markdown",
   "metadata": {},
   "source": [
    "### What do we track?\n",
    "\n",
    "- **Code Version**: Git commit hash used for the run (if it was run from an MLflow Project)\n",
    "- **Start & End Time**: Start and end time of the run\n",
    "- **Source**: what code run?\n",
    "- **Parameters**: Key-value input parameters.\n",
    "- **Metrics**: Key-value metrics, where the value is numeric (can be updated over the run)\n",
    "- **Artifacts**: Output files in any format."
   ]
  },
  {
   "cell_type": "code",
   "execution_count": 52,
   "metadata": {},
   "outputs": [],
   "source": [
    "#Evaluation Metrics to Assess and compare the model\n",
    "def eval_metrics(actual, pred):\n",
    "    # compute relevant metrics\n",
    "    rmse = np.sqrt(mean_squared_error(actual, pred))\n",
    "    mae = mean_absolute_error(actual, pred)\n",
    "    r2 = r2_score(actual, pred)\n",
    "    return rmse, mae, r2\n",
    "\n",
    "#Load Data and partition\n",
    "def load_data(dataset):\n",
    "    data = dataset.to_pandas_dataframe()\n",
    "\n",
    "    # Split the data into training and test sets. (0.75, 0.25) split.\n",
    "    train, test = train_test_split(data)\n",
    "\n",
    "    # The predicted column is \"quality\" which is a scalar from [3, 9]\n",
    "    train_x = train.drop([\"quality\"], axis=1)\n",
    "    test_x = test.drop([\"quality\"], axis=1)\n",
    "    train_y = train[[\"quality\"]]\n",
    "    test_y = test[[\"quality\"]]\n",
    "    return train_x, train_y, test_x, test_y\n",
    "\n",
    "\n",
    "#Train the model and include tracking metrics\n",
    "def train(alpha=0.5, l1_ratio=0.5,full_view=False):\n",
    "    # train a model with given parameters\n",
    "    warnings.filterwarnings(\"ignore\")\n",
    "    np.random.seed(40)\n",
    "\n",
    "    # Read the wine-quality csv file (make sure you're running this from the root of MLflow!)\n",
    "    #data_path = \"data/wine-quality.csv\"\n",
    "    train_x, train_y, test_x, test_y = load_data(dataset)\n",
    "\n",
    "    # Useful for multiple runs (only doing one run in this sample notebook)    \n",
    "    with mlflow.start_run(experiment_id=exp_id) as run:\n",
    "        # Execute ElasticNet\n",
    "        lr = ElasticNet(alpha=alpha, l1_ratio=l1_ratio, random_state=42)\n",
    "        lr.fit(train_x, train_y)\n",
    "\n",
    "        # Evaluate Metrics\n",
    "        predicted_qualities = lr.predict(test_x)\n",
    "        (rmse, mae, r2) = eval_metrics(test_y, predicted_qualities)\n",
    "\n",
    "        # Print out metrics\n",
    "        print(\"Elasticnet model (alpha=%f, l1_ratio=%f):\" % (alpha, l1_ratio))\n",
    "        print(\"  RMSE: %s\" % rmse)\n",
    "        print(\"  MAE: %s\" % mae)\n",
    "        print(\"  R2: %s\" % r2)\n",
    "\n",
    "        # Log parameter, metrics, and model to MLflow\n",
    "        mlflow.log_param(key=\"alpha\", value=alpha)\n",
    "        mlflow.log_param(key=\"l1_ratio\", value=l1_ratio)\n",
    "        mlflow.log_metric(key=\"rmse\", value=rmse)\n",
    "        mlflow.log_metrics({\"mae\": mae, \"r2\": r2})\n",
    "        \n",
    "        #Log model\n",
    "        mlflow.sklearn.log_model(lr, \"model\")\n",
    "        \n",
    "        #print artifact uri\n",
    "        print(\"Save to: {}\".format(mlflow.get_artifact_uri()))\n",
    "        \n",
    "        #print run_id\n",
    "        print(f\"RunID: {run.info.run_uuid}\")\n",
    "        \n",
    "        #print experiment id\n",
    "        print(f\"Experiment ID: {run.info.experiment_id}\")\n",
    "        \n",
    "        if full_view:\n",
    "            print(\"Run IDs: \\n{}\".format(mlflow.search_runs(ViewType.ACTIVE_ONLY)))\n",
    "        else:\n",
    "            pass\n",
    "        \n",
    "                "
   ]
  },
  {
   "cell_type": "markdown",
   "metadata": {},
   "source": [
    "## 4. Train Model Locally"
   ]
  },
  {
   "cell_type": "code",
   "execution_count": 53,
   "metadata": {
    "scrolled": true
   },
   "outputs": [
    {
     "name": "stdout",
     "output_type": "stream",
     "text": [
      "Elasticnet model (alpha=0.500000, l1_ratio=0.500000):\n",
      "  RMSE: 0.82224284975954\n",
      "  MAE: 0.6278761410160693\n",
      "  R2: 0.12678721972772689\n"
     ]
    },
    {
     "name": "stderr",
     "output_type": "stream",
     "text": [
      "2021/02/03 09:36:05 WARNING mlflow.models.model: Logging model metadata to the tracking server has failed, possibly due older server version. The model artifacts have been logged successfully under azureml://experiments/mlflow_aml_spark/runs/9df06b86-7311-41d2-922b-7953ea316417/artifacts. In addition to exporting model artifacts, MLflow clients 1.7.0 and above attempt to record model metadata to the  tracking store. If logging to a mlflow server via REST, consider  upgrading the server version to MLflow 1.7.0 or above.\n"
     ]
    },
    {
     "name": "stdout",
     "output_type": "stream",
     "text": [
      "Save to: azureml://experiments/mlflow_aml_spark/runs/9df06b86-7311-41d2-922b-7953ea316417/artifacts\n",
      "RunID: 9df06b86-7311-41d2-922b-7953ea316417\n",
      "Experiment ID: a3f991b6-5c32-4f14-b448-6f695fd25c76\n"
     ]
    }
   ],
   "source": [
    "train(0.5, 0.5)"
   ]
  },
  {
   "cell_type": "code",
   "execution_count": 54,
   "metadata": {
    "scrolled": true
   },
   "outputs": [
    {
     "name": "stdout",
     "output_type": "stream",
     "text": [
      "Elasticnet model (alpha=0.200000, l1_ratio=0.200000):\n",
      "  RMSE: 0.7859129997062341\n",
      "  MAE: 0.6155290394093893\n",
      "  R2: 0.20224631822892103\n"
     ]
    },
    {
     "name": "stderr",
     "output_type": "stream",
     "text": [
      "2021/02/03 09:36:08 WARNING mlflow.models.model: Logging model metadata to the tracking server has failed, possibly due older server version. The model artifacts have been logged successfully under azureml://experiments/mlflow_aml_spark/runs/dce56ea7-ef4f-49fe-acad-c4ecc1f7eb15/artifacts. In addition to exporting model artifacts, MLflow clients 1.7.0 and above attempt to record model metadata to the  tracking store. If logging to a mlflow server via REST, consider  upgrading the server version to MLflow 1.7.0 or above.\n"
     ]
    },
    {
     "name": "stdout",
     "output_type": "stream",
     "text": [
      "Save to: azureml://experiments/mlflow_aml_spark/runs/dce56ea7-ef4f-49fe-acad-c4ecc1f7eb15/artifacts\n",
      "RunID: dce56ea7-ef4f-49fe-acad-c4ecc1f7eb15\n",
      "Experiment ID: a3f991b6-5c32-4f14-b448-6f695fd25c76\n"
     ]
    }
   ],
   "source": [
    "train(0.2, 0.2)"
   ]
  },
  {
   "cell_type": "code",
   "execution_count": 55,
   "metadata": {},
   "outputs": [
    {
     "name": "stdout",
     "output_type": "stream",
     "text": [
      "Elasticnet model (alpha=0.100000, l1_ratio=0.100000):\n",
      "  RMSE: 0.7792546522251949\n",
      "  MAE: 0.6112547988118587\n",
      "  R2: 0.2157063843066196\n"
     ]
    },
    {
     "name": "stderr",
     "output_type": "stream",
     "text": [
      "2021/02/03 09:36:11 WARNING mlflow.models.model: Logging model metadata to the tracking server has failed, possibly due older server version. The model artifacts have been logged successfully under azureml://experiments/mlflow_aml_spark/runs/5a96ee4f-cef7-4503-8e09-4a6f2adf4de9/artifacts. In addition to exporting model artifacts, MLflow clients 1.7.0 and above attempt to record model metadata to the  tracking store. If logging to a mlflow server via REST, consider  upgrading the server version to MLflow 1.7.0 or above.\n"
     ]
    },
    {
     "name": "stdout",
     "output_type": "stream",
     "text": [
      "Save to: azureml://experiments/mlflow_aml_spark/runs/5a96ee4f-cef7-4503-8e09-4a6f2adf4de9/artifacts\n",
      "RunID: 5a96ee4f-cef7-4503-8e09-4a6f2adf4de9\n",
      "Experiment ID: a3f991b6-5c32-4f14-b448-6f695fd25c76\n",
      "Run IDs: \n",
      "Empty DataFrame\n",
      "Columns: [run_id, experiment_id, status, artifact_uri, start_time, end_time]\n",
      "Index: []\n"
     ]
    }
   ],
   "source": [
    "train(0.1, 0.1,full_view=True)"
   ]
  },
  {
   "cell_type": "markdown",
   "metadata": {},
   "source": [
    "## 5. Comparing Runs in UI (Azure Portal)\n",
    "Connect to Azure Portal to view experiments and run metrics."
   ]
  },
  {
   "cell_type": "code",
   "execution_count": 78,
   "metadata": {},
   "outputs": [],
   "source": [
    "#Register the experiment to AML\n",
    "exp = Experiment(ws, exp_name)\n",
    "#can use for future remote runs"
   ]
  },
  {
   "cell_type": "code",
   "execution_count": 60,
   "metadata": {},
   "outputs": [
    {
     "name": "stdout",
     "output_type": "stream",
     "text": [
      "mlflow_aml_spark\n",
      "{'ElasticNet_wine_AML': Experiment(Name: ElasticNet_wine_AML,\n",
      "Workspace: mlflow_tutorial), 'mlflow_aml_spark': Experiment(Name: mlflow_aml_spark,\n",
      "Workspace: mlflow_tutorial), 'test_exp_name': Experiment(Name: test_exp_name,\n",
      "Workspace: mlflow_tutorial)}\n"
     ]
    }
   ],
   "source": [
    "print(exp_name)\n",
    "print(ws.experiments)"
   ]
  },
  {
   "cell_type": "code",
   "execution_count": 58,
   "metadata": {},
   "outputs": [
    {
     "data": {
      "text/html": [
       "<table style=\"width:100%\"><tr><th>Name</th><th>Workspace</th><th>Report Page</th><th>Docs Page</th></tr><tr><td>mlflow_aml_spark</td><td>mlflow_tutorial</td><td><a href=\"https://ml.azure.com/experiments/mlflow_aml_spark?wsid=/subscriptions/e1eb783d-78a5-42a4-bae3-bc0ddd433898/resourcegroups/robotdemo/workspaces/mlflow_tutorial\" target=\"_blank\" rel=\"noopener\">Link to Azure Machine Learning studio</a></td><td><a href=\"https://docs.microsoft.com/en-us/python/api/azureml-core/azureml.core.experiment.Experiment?view=azure-ml-py\" target=\"_blank\" rel=\"noopener\">Link to Documentation</a></td></tr></table>"
      ],
      "text/plain": [
       "Experiment(Name: mlflow_aml_spark,\n",
       "Workspace: mlflow_tutorial)"
      ]
     },
     "execution_count": 58,
     "metadata": {},
     "output_type": "execute_result"
    }
   ],
   "source": [
    "ws.experiments['mlflow_aml_spark']"
   ]
  },
  {
   "cell_type": "markdown",
   "metadata": {},
   "source": [
    "### 5.1 Comparing Runs Programmatically"
   ]
  },
  {
   "cell_type": "markdown",
   "metadata": {},
   "source": [
    "### Look at MLFlow Directory Structure"
   ]
  },
  {
   "cell_type": "code",
   "execution_count": 61,
   "metadata": {},
   "outputs": [
    {
     "data": {
      "text/plain": [
       "[<Experiment: artifact_location='', experiment_id='fe3ff3a4-0fa3-4075-bd4f-8352d3b501d9', lifecycle_stage='active', name='ElasticNet_wine_AML', tags={}>,\n",
       " <Experiment: artifact_location='', experiment_id='fc950002-c0b7-4ca0-b1dc-d1685a7ab854', lifecycle_stage='active', name='My Simple New Experiment AML', tags={}>,\n",
       " <Experiment: artifact_location='', experiment_id='7fa3ecfb-f601-46c0-a54b-90e9784e6785', lifecycle_stage='active', name='My Simple New Experiment AML - SPARK', tags={}>,\n",
       " <Experiment: artifact_location='', experiment_id='9dfeb90d-68ad-4e4c-8eb8-f996428ae994', lifecycle_stage='active', name='My New Experiment AML - SPARK', tags={}>,\n",
       " <Experiment: artifact_location='', experiment_id='a3f991b6-5c32-4f14-b448-6f695fd25c76', lifecycle_stage='active', name='mlflow_aml_spark', tags={}>,\n",
       " <Experiment: artifact_location='', experiment_id='94a773f8-0f5b-4414-96e9-2fdf050c02c8', lifecycle_stage='active', name='test_exp_name', tags={}>]"
      ]
     },
     "execution_count": 61,
     "metadata": {},
     "output_type": "execute_result"
    }
   ],
   "source": [
    "from mlflow.tracking import MlflowClient\n",
    "\n",
    "list_of_experiments = MlflowClient().list_experiments()\n",
    "list_of_experiments"
   ]
  },
  {
   "cell_type": "code",
   "execution_count": 62,
   "metadata": {},
   "outputs": [
    {
     "data": {
      "text/plain": [
       "'a3f991b6-5c32-4f14-b448-6f695fd25c76'"
      ]
     },
     "execution_count": 62,
     "metadata": {},
     "output_type": "execute_result"
    }
   ],
   "source": [
    "#Set up above\n",
    "exp_id"
   ]
  },
  {
   "cell_type": "code",
   "execution_count": 63,
   "metadata": {},
   "outputs": [
    {
     "data": {
      "text/plain": [
       "<Experiment: artifact_location='', experiment_id='a3f991b6-5c32-4f14-b448-6f695fd25c76', lifecycle_stage='active', name='mlflow_aml_spark', tags={}>"
      ]
     },
     "execution_count": 63,
     "metadata": {},
     "output_type": "execute_result"
    }
   ],
   "source": [
    "MlflowClient().get_experiment(exp_id)"
   ]
  },
  {
   "cell_type": "markdown",
   "metadata": {},
   "source": [
    "#### List Run Info for a given experiment"
   ]
  },
  {
   "cell_type": "code",
   "execution_count": 64,
   "metadata": {},
   "outputs": [
    {
     "data": {
      "text/plain": [
       "[<RunInfo: artifact_uri='', end_time=1612362968589, experiment_id='a3f991b6-5c32-4f14-b448-6f695fd25c76', lifecycle_stage='active', run_id='dce56ea7-ef4f-49fe-acad-c4ecc1f7eb15', run_uuid='dce56ea7-ef4f-49fe-acad-c4ecc1f7eb15', start_time=1612362965942, status='FINISHED', user_id='c8427b67-4103-4ced-b0c1-2200b7c3dcfa'>,\n",
       " <RunInfo: artifact_uri='', end_time=1612362971933, experiment_id='a3f991b6-5c32-4f14-b448-6f695fd25c76', lifecycle_stage='active', run_id='5a96ee4f-cef7-4503-8e09-4a6f2adf4de9', run_uuid='5a96ee4f-cef7-4503-8e09-4a6f2adf4de9', start_time=1612362969331, status='FINISHED', user_id='c8427b67-4103-4ced-b0c1-2200b7c3dcfa'>,\n",
       " <RunInfo: artifact_uri='', end_time=1612362965186, experiment_id='a3f991b6-5c32-4f14-b448-6f695fd25c76', lifecycle_stage='active', run_id='9df06b86-7311-41d2-922b-7953ea316417', run_uuid='9df06b86-7311-41d2-922b-7953ea316417', start_time=1612362962242, status='FINISHED', user_id='c8427b67-4103-4ced-b0c1-2200b7c3dcfa'>]"
      ]
     },
     "execution_count": 64,
     "metadata": {},
     "output_type": "execute_result"
    }
   ],
   "source": [
    "MlflowClient().list_run_infos(experiment_id=exp_id)"
   ]
  },
  {
   "cell_type": "markdown",
   "metadata": {},
   "source": [
    "Take a look at the contents of `model` above, which match what we see in the UI."
   ]
  },
  {
   "cell_type": "code",
   "execution_count": 65,
   "metadata": {},
   "outputs": [
    {
     "data": {
      "text/plain": [
       "'dce56ea7-ef4f-49fe-acad-c4ecc1f7eb15'"
      ]
     },
     "execution_count": 65,
     "metadata": {},
     "output_type": "execute_result"
    }
   ],
   "source": [
    "runID=MlflowClient().list_run_infos(experiment_id=exp_id)[0].run_id\n",
    "runID"
   ]
  },
  {
   "cell_type": "markdown",
   "metadata": {},
   "source": [
    "Return the evaluation metrics for the run."
   ]
  },
  {
   "cell_type": "code",
   "execution_count": 73,
   "metadata": {},
   "outputs": [
    {
     "data": {
      "text/plain": [
       "{'rmse': 0.7859129997062341,\n",
       " 'mae': 0.6155290394093893,\n",
       " 'r2': 0.20224631822892103}"
      ]
     },
     "execution_count": 73,
     "metadata": {},
     "output_type": "execute_result"
    }
   ],
   "source": [
    "MlflowClient().get_run(runID).data.metrics"
   ]
  },
  {
   "cell_type": "markdown",
   "metadata": {},
   "source": [
    "### 5.2 Tagging runs"
   ]
  },
  {
   "cell_type": "code",
   "execution_count": 75,
   "metadata": {},
   "outputs": [
    {
     "name": "stdout",
     "output_type": "stream",
     "text": [
      "<Run: data=<RunData: metrics={'mae': 0.6155290394093893,\n",
      " 'r2': 0.20224631822892103,\n",
      " 'rmse': 0.7859129997062341}, params={'alpha': '0.2', 'l1_ratio': '0.2'}, tags={'mlflow.source.git.commit': '70635dade88cc31365a8a0b2275b639981cbab63',\n",
      " 'mlflow.source.name': '/Users/antfra/.pyenv/versions/3.8.1/envs/mlflow_tutorial/lib/python3.8/site-packages/ipykernel_launcher.py',\n",
      " 'mlflow.source.type': 'LOCAL',\n",
      " 'mlflow.user': 'antfra'}>, info=<RunInfo: artifact_uri='azureml://experiments/mlflow_aml_spark/runs/dce56ea7-ef4f-49fe-acad-c4ecc1f7eb15/artifacts', end_time=1612362968589, experiment_id='a3f991b6-5c32-4f14-b448-6f695fd25c76', lifecycle_stage='active', run_id='dce56ea7-ef4f-49fe-acad-c4ecc1f7eb15', run_uuid='dce56ea7-ef4f-49fe-acad-c4ecc1f7eb15', start_time=1612362965942, status='FINISHED', user_id='c8427b67-4103-4ced-b0c1-2200b7c3dcfa'>>\n"
     ]
    }
   ],
   "source": [
    "# get the runs\n",
    "_run = MlflowClient().get_run(run_id=runID)\n",
    "print(_run)"
   ]
  },
  {
   "cell_type": "code",
   "execution_count": 76,
   "metadata": {},
   "outputs": [],
   "source": [
    "from datetime import datetime\n",
    "# add a tag to the run\n",
    "dt = datetime.now().strftime(\"%d-%m-%Y (%H:%M:%S.%f)\")\n",
    "MlflowClient().set_tag(_run.info.run_id, \"deployed\", dt)"
   ]
  },
  {
   "cell_type": "markdown",
   "metadata": {},
   "source": [
    "## 6. Deploy Model"
   ]
  },
  {
   "cell_type": "code",
   "execution_count": 83,
   "metadata": {},
   "outputs": [
    {
     "data": {
      "text/plain": [
       "'azureml://experiments/mlflow_aml_spark/runs/dce56ea7-ef4f-49fe-acad-c4ecc1f7eb15/artifacts'"
      ]
     },
     "execution_count": 83,
     "metadata": {},
     "output_type": "execute_result"
    }
   ],
   "source": [
    "_run.info.artifact_uri"
   ]
  },
  {
   "cell_type": "code",
   "execution_count": 85,
   "metadata": {},
   "outputs": [
    {
     "name": "stdout",
     "output_type": "stream",
     "text": [
      "azureml://experiments/mlflow_aml_spark/runs/dce56ea7-ef4f-49fe-acad-c4ecc1f7eb15/artifacts/model\n"
     ]
    }
   ],
   "source": [
    "model_path = \"model\"\n",
    "\n",
    "model_uri=f'{_run.info.artifact_uri}/{model_path}'\n",
    "print(model_uri)"
   ]
  },
  {
   "cell_type": "code",
   "execution_count": 86,
   "metadata": {},
   "outputs": [],
   "source": [
    "# Create a deployment config\n",
    "aci_config = AciWebservice.deploy_configuration(cpu_cores=1, memory_gb=1)"
   ]
  },
  {
   "cell_type": "code",
   "execution_count": 87,
   "metadata": {},
   "outputs": [
    {
     "name": "stdout",
     "output_type": "stream",
     "text": [
      "Registering model winemodel\n"
     ]
    },
    {
     "name": "stderr",
     "output_type": "stream",
     "text": [
      "2021/02/03 10:44:36 INFO mlflow.azureml: Registered an Azure Model with name: `winemodel` and version: `1`\n",
      "2021/02/03 10:44:46 INFO mlflow.azureml: Deploying an Azure Webservice with name: `winemodelservice`\n"
     ]
    },
    {
     "name": "stdout",
     "output_type": "stream",
     "text": [
      "Tips: You can try get_logs(): https://aka.ms/debugimage#dockerlog or local deployment: https://aka.ms/debugimage#debug-locally to debug if deployment takes longer than 10 minutes.\n",
      "Running........................................................................................................\n",
      "Succeeded\n",
      "ACI service creation operation finished, operation \"Succeeded\"\n"
     ]
    }
   ],
   "source": [
    "# Register and deploy model to Azure Container Instance (ACI)\n",
    "(webservice, model) = mlflow.azureml.deploy(model_uri=model_uri,\n",
    "                                            workspace=ws,\n",
    "                                            model_name='winemodel',\n",
    "                                            service_name='winemodelservice',\n",
    "                                            deployment_config=aci_config)"
   ]
  },
  {
   "cell_type": "markdown",
   "metadata": {},
   "source": [
    "## 7. Test Endpoint"
   ]
  },
  {
   "cell_type": "code",
   "execution_count": 88,
   "metadata": {},
   "outputs": [
    {
     "name": "stdout",
     "output_type": "stream",
     "text": [
      "Scoring URI is: %s http://6634922d-8f09-4b2e-a98b-98ea019a8cd5.eastus.azurecontainer.io/score\n",
      "[3.5662844909341738]\n"
     ]
    }
   ],
   "source": [
    "# After the model deployment completes, requests can be posted via HTTP to the new ACI\n",
    "# webservice's scoring URI. The following example posts a sample input from the wine dataset\n",
    "# used in the MLflow ElasticNet example:\n",
    "# https://github.com/mlflow/mlflow/tree/master/examples/sklearn_elasticnet_wine\n",
    "print(\"Scoring URI is: %s\", webservice.scoring_uri)\n",
    "\n",
    "import requests\n",
    "import json\n",
    "\n",
    "# `sample_input` is a JSON-serialized pandas DataFrame with the `split` orientation\n",
    "sample_input = {\n",
    "    \"columns\": [\n",
    "        \"alcohol\",\n",
    "        \"chlorides\",\n",
    "        \"citric acid\",\n",
    "        \"density\",\n",
    "        \"fixed acidity\",\n",
    "        \"free sulfur dioxide\",\n",
    "        \"pH\",\n",
    "        \"residual sugar\",\n",
    "        \"sulphates\",\n",
    "        \"total sulfur dioxide\",\n",
    "        \"volatile acidity\"\n",
    "    ],\n",
    "    \"data\": [\n",
    "        [8.8, 0.045, 0.36, 1.001, 7, 45, 3, 20.7, 0.45, 170, 0.27]\n",
    "    ]\n",
    "}\n",
    "response = requests.post(\n",
    "              url=webservice.scoring_uri, data=json.dumps(sample_input),\n",
    "              headers={\"Content-type\": \"application/json\"})\n",
    "response_json = json.loads(response.text)\n",
    "print(response_json)"
   ]
  },
  {
   "cell_type": "markdown",
   "metadata": {},
   "source": [
    "#### Delete Webservice"
   ]
  },
  {
   "cell_type": "code",
   "execution_count": 89,
   "metadata": {},
   "outputs": [],
   "source": [
    "webservice.delete()"
   ]
  }
 ],
 "metadata": {
  "kernel_info": {
   "name": "python3-azureml"
  },
  "kernelspec": {
   "display_name": "Python 3",
   "language": "python",
   "name": "python3"
  },
  "language_info": {
   "codemirror_mode": {
    "name": "ipython",
    "version": 3
   },
   "file_extension": ".py",
   "mimetype": "text/x-python",
   "name": "python",
   "nbconvert_exporter": "python",
   "pygments_lexer": "ipython3",
   "version": "3.8.1"
  },
  "nteract": {
   "version": "nteract-front-end@1.0.0"
  }
 },
 "nbformat": 4,
 "nbformat_minor": 4
}
